{
 "cells": [
  {
   "cell_type": "markdown",
   "metadata": {},
   "source": [
    "# Linux Dünyasına Giriş"
   ]
  },
  {
   "cell_type": "markdown",
   "metadata": {},
   "source": [
    "## Linux hakkında\n",
    "- Unix sistemi\n",
    "- Centos, mint, ubuntu, fedora, redhat, opensuse\n",
    "- basit ve hızlı, tcp/ip protokolü\n",
    "- upgrade and update ile komple güncelleme\n",
    "- case-sensitive\n",
    "- dizin mantıklı gider\n",
    "- bash\n",
    "- secure\n",
    "- help ile öğrenme\n",
    "\n",
    "## Ubuntu kurulumu\n",
    "- docker kullanıldı. Ubuntu kurulumu.\n",
    "- terminalde “docker pull ubuntu” ve “docker run -it ubuntu” bu komutlarla container ile ubuntu açabiliriz.\n",
    "- docker da direkt root olduğundan gerek yok sudo kullanmaya ama illa kullanmak istersen apt update sonra da apt install sudo diyip kullanabiliriz.\n",
    "\n",
    "## Dosya Sistemi Hiyerarşisi\n",
    "- Her şey dosyadır. Filesystem hierarchy standart (fsh) kullanılır.\n",
    "- root directory vardır. Bunun içinde tüm dosyalar ve bilgiler vardır. Ana dizindir.\n",
    "- /bin —> binary. Binary dosyalar burada olur. İnternete ihtiyaç olmadan buradaki komutları kullanabilirsiniz. mv ls cat gibi komutların olduğu yerdir. \n",
    "- /sbin —> system binary. Sistemi yeniden başlatma. Iptables konfigürasyonları. Root yetkisi gerekir komutları çalıştırmak için.\n",
    "- /lib —> programlar için kullanılan dosyaları içerir. .lib, .so dosyalarını içerir.\n",
    "- /opt —> optional add-on apps leri içerir. Bizim indirdiklerimizi.\n",
    "- /boot —> boot loader file. Linux kernel\n",
    "- /etc —> editable text configuration. Configuration files. .conf, resolve.conf, crontab.\n",
    "- /home —> kullanıcı dizinleri. Windows usersla benzer. Her kullanıcı kendi bin dosyasını oluşturabilir.\n",
    "- /root —> windowsdaki admin gibi admin olmadan girilmez veya değişiklik yapılamaz.\n",
    "- /srv —> service data. Web server script & data.\n",
    "- /media —> usb, cd, aygıtların bağlandığı yerdir.\n",
    "- /mnt —> hdd nin bağlandığı yerdir.\n",
    "- /tmp —> reboot sonrası silinir. Temporary fileslar tutulur sadece.\n",
    "- /dev —> device files. Usb, sabit disk\n",
    "- /proc —> process information. Virtual file system. /proc/cpuinfo gibi bilgiler tutulur.\n",
    "- /sys —> sistem dosyası buradadır.\n",
    "- /var  —> variable files. Database files, logs, temporary files. Zamanla değişen dosyalar buradadır. \n",
    "\t- /lib —> uygulamaların durumlarını içerir.\n",
    "\t- /log —> loglar burada tutulur.\n",
    "\t-/tmp —> temporary files burada ve  herkes buraya /var/tmp olarak erişebilir. Upload download işlemleri burada yapılabilir.\n",
    "- /usr —> unix system resources. Binary files, libraries, docs. /bin —> /usr/local/bin erişilebilir.\n",
    "- /lost+found —> fsck ile burada tutulur dosyalar. Recovery sistem işini görür.\n",
    "\n"
   ]
  },
  {
   "cell_type": "markdown",
   "metadata": {},
   "source": [
    "# Temel Komutlar"
   ]
  },
  {
   "cell_type": "markdown",
   "metadata": {},
   "source": [
    "# pwd\n",
    "- print working directory. güncel dizini gösterir. pwd --help kullanılabilir ekstra bilgi için.\n"
   ]
  }
 ],
 "metadata": {
  "language_info": {
   "name": "python"
  }
 },
 "nbformat": 4,
 "nbformat_minor": 2
}

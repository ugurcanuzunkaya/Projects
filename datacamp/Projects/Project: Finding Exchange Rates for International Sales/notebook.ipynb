{
 "cells": [
  {
   "cell_type": "markdown",
   "id": "377201b3-e64a-46d5-87fc-3ec811e8b349",
   "metadata": {
    "collapsed": false,
    "jupyter": {
     "outputs_hidden": false,
     "source_hidden": false
    }
   },
   "source": [
    "![Header image](resources/image.jpg)\n",
    "\n",
    "Exciting times! \n",
    "\n",
    "You've been running our very successful gadget webshop 'DataGadgets' for a few years and have recently expanded into new territories. While you've been focussed on the US market for the first five years of our existence, you now are shipping our cool data gadgets to the UK and Europe, too! But now our in-house built reporting has broken! Transactions don't only come in USD, but you're also receiving transactions in EUR and GPB. \n",
    "\n",
    "To better understand the volume of transactions being made, you should convert the non-USD transactions to USD and sum up the total. To do this, however, you'll need to use the proper exchange rates. \n",
    "\n",
    "In this project, you'll start with a CSV file containing all e-commerce transactions made on January 21st, but in their original currencies. Your job is to calculate the total sum in USD of all transactions so you know how much USD you sold on January 21st. To do this, you'll need to convert any non-USD transactions to USD using the exchange rate from January 21st, 2024. \n",
    "\n",
    "To get the exchange rates from January 21st, 2024, you'll rely on [VAT Comply rates API's](https://www.vatcomply.com/documentation#rates) public and free currency exchange API. You'll also use `pandas` to load the CSV file into a DataFrame and the `requests` package to make interacting with the API easier. \n",
    "\n",
    "You need to update the `orders` DataFrame so the final version has two new columns: `exchange_rate` and `amount_usd`. The final version should look as follows:\n",
    "\n",
    "| `amount` | `currency` | `exchange_rate` | `amount_usd` |\n",
    "|-|-|-|-|\n",
    "| 43.75 | EUR | ... | ... |\n",
    "| 385.5 | GBP | ... | ... |\n",
    "| 495.5 | GBP | ... | ... |\n",
    "| 117.99 | GBP | ... | ... |\n",
    "| 624 | USD | ... | ... |"
   ]
  },
  {
   "cell_type": "code",
   "execution_count": 1,
   "id": "1a3a3879-8758-438c-9062-c24f4d8a15e1",
   "metadata": {
    "chartConfig": {
     "bar": {
      "hasRoundedCorners": true,
      "stacked": false
     },
     "type": "bar",
     "version": "v1"
    },
    "executionCancelledAt": null,
    "executionTime": 24,
    "lastExecutedAt": 1740183911512,
    "lastExecutedByKernel": "b9f17398-d06b-405b-9752-b2f5ce027655",
    "lastScheduledRunId": null,
    "lastSuccessfullyExecutedCode": "# Import required packages/libraries\nimport pandas as pd\nimport requests\n\n# Read the CSV file into a DataFrame\norders = pd.read_csv('data/orders-2024-01-21.csv')\norders.head()",
    "outputsMetadata": {
     "0": {
      "height": 550,
      "tableState": {
       "quickFilterText": ""
      },
      "type": "dataFrame"
     }
    },
    "visualizeDataframe": false
   },
   "outputs": [
    {
     "data": {
      "text/html": [
       "<div>\n",
       "<style scoped>\n",
       "    .dataframe tbody tr th:only-of-type {\n",
       "        vertical-align: middle;\n",
       "    }\n",
       "\n",
       "    .dataframe tbody tr th {\n",
       "        vertical-align: top;\n",
       "    }\n",
       "\n",
       "    .dataframe thead th {\n",
       "        text-align: right;\n",
       "    }\n",
       "</style>\n",
       "<table border=\"1\" class=\"dataframe\">\n",
       "  <thead>\n",
       "    <tr style=\"text-align: right;\">\n",
       "      <th></th>\n",
       "      <th>amount</th>\n",
       "      <th>currency</th>\n",
       "    </tr>\n",
       "  </thead>\n",
       "  <tbody>\n",
       "    <tr>\n",
       "      <th>0</th>\n",
       "      <td>43.75</td>\n",
       "      <td>EUR</td>\n",
       "    </tr>\n",
       "    <tr>\n",
       "      <th>1</th>\n",
       "      <td>385.50</td>\n",
       "      <td>GBP</td>\n",
       "    </tr>\n",
       "    <tr>\n",
       "      <th>2</th>\n",
       "      <td>495.50</td>\n",
       "      <td>GBP</td>\n",
       "    </tr>\n",
       "    <tr>\n",
       "      <th>3</th>\n",
       "      <td>117.99</td>\n",
       "      <td>GBP</td>\n",
       "    </tr>\n",
       "    <tr>\n",
       "      <th>4</th>\n",
       "      <td>624.00</td>\n",
       "      <td>USD</td>\n",
       "    </tr>\n",
       "  </tbody>\n",
       "</table>\n",
       "</div>"
      ],
      "text/plain": [
       "   amount currency\n",
       "0   43.75      EUR\n",
       "1  385.50      GBP\n",
       "2  495.50      GBP\n",
       "3  117.99      GBP\n",
       "4  624.00      USD"
      ]
     },
     "execution_count": 1,
     "metadata": {},
     "output_type": "execute_result"
    }
   ],
   "source": [
    "# Import required packages/libraries\n",
    "import pandas as pd\n",
    "import requests\n",
    "\n",
    "# Read the CSV file into a DataFrame\n",
    "orders = pd.read_csv('./data/orders-2024-01-21.csv')\n",
    "orders.head()"
   ]
  },
  {
   "cell_type": "code",
   "execution_count": 2,
   "id": "fccf71b1-bd66-4ac3-b9b3-f276e6478e84",
   "metadata": {
    "executionCancelledAt": null,
    "executionTime": 443,
    "lastExecutedAt": 1740183911955,
    "lastExecutedByKernel": "b9f17398-d06b-405b-9752-b2f5ce027655",
    "lastScheduledRunId": null,
    "lastSuccessfullyExecutedCode": "query_params = {\"base\": \"USD\", \"date\": \"2024-01-21\"}\nresponse = requests.get(\"https://api.vatcomply.com/rates\", params=query_params)\nprint(response.text)\n",
    "outputsMetadata": {
     "0": {
      "height": 143,
      "type": "stream"
     }
    }
   },
   "outputs": [
    {
     "name": "stdout",
     "output_type": "stream",
     "text": [
      "{\"date\":\"2024-01-19\",\"base\":\"USD\",\"rates\":{\"EUR\":0.918526683200147,\"USD\":1.0,\"JPY\":148.0389455313677,\"BGN\":1.7964544870028474,\"CZK\":22.791402590245244,\"DKK\":6.849912739965095,\"GBP\":0.788325525856526,\"HUF\":350.44548544135205,\"PLN\":4.0064296867824005,\"RON\":4.572058418297051,\"SEK\":10.452833654817674,\"CHF\":0.8688343896390189,\"ISK\":136.7686231285019,\"NOK\":10.480389455313677,\"TRY\":30.192523192798753,\"AUD\":1.5155690272802425,\"BRL\":4.908974005694866,\"CAD\":1.3461927068981354,\"CNY\":7.191237255442271,\"HKD\":7.819233948746211,\"IDR\":15607.449251400754,\"ILS\":3.7403325066593185,\"INR\":83.07936070542848,\"KRW\":1333.6915587397814,\"MXN\":17.129971525672822,\"MYR\":4.717461192247635,\"NZD\":1.6347937907596215,\"PHP\":55.98971250114816,\"SGD\":1.3409571048038946,\"THB\":35.45972260494167,\"ZAR\":19.00358225406448}}\n"
     ]
    }
   ],
   "source": [
    "query_params = {\"base\": \"USD\", \"date\": \"2024-01-21\"}\n",
    "response = requests.get(\"https://api.vatcomply.com/rates\", params=query_params)\n",
    "print(response.text) # Checking if it is data we want"
   ]
  },
  {
   "cell_type": "code",
   "execution_count": 3,
   "id": "497ca01b-90a7-4152-bcd0-e93dcb449d23",
   "metadata": {
    "executionCancelledAt": null,
    "executionTime": 52,
    "lastExecutedAt": 1740183912007,
    "lastExecutedByKernel": "b9f17398-d06b-405b-9752-b2f5ce027655",
    "lastScheduledRunId": null,
    "lastSuccessfullyExecutedCode": "data = response.json()\nrates = data[\"rates\"]\nfor k, v in rates.items():\n    print(f\"{k}: {v}\")",
    "outputsMetadata": {
     "0": {
      "height": 616,
      "type": "stream"
     },
     "1": {
      "height": 500,
      "tableState": {
       "quickFilterText": ""
      },
      "type": "dataFrame"
     }
    }
   },
   "outputs": [
    {
     "name": "stdout",
     "output_type": "stream",
     "text": [
      "EUR: 0.918526683200147\n",
      "USD: 1.0\n",
      "JPY: 148.0389455313677\n",
      "BGN: 1.7964544870028474\n",
      "CZK: 22.791402590245244\n",
      "DKK: 6.849912739965095\n",
      "GBP: 0.788325525856526\n",
      "HUF: 350.44548544135205\n",
      "PLN: 4.0064296867824005\n",
      "RON: 4.572058418297051\n",
      "SEK: 10.452833654817674\n",
      "CHF: 0.8688343896390189\n",
      "ISK: 136.7686231285019\n",
      "NOK: 10.480389455313677\n",
      "TRY: 30.192523192798753\n",
      "AUD: 1.5155690272802425\n",
      "BRL: 4.908974005694866\n",
      "CAD: 1.3461927068981354\n",
      "CNY: 7.191237255442271\n",
      "HKD: 7.819233948746211\n",
      "IDR: 15607.449251400754\n",
      "ILS: 3.7403325066593185\n",
      "INR: 83.07936070542848\n",
      "KRW: 1333.6915587397814\n",
      "MXN: 17.129971525672822\n",
      "MYR: 4.717461192247635\n",
      "NZD: 1.6347937907596215\n",
      "PHP: 55.98971250114816\n",
      "SGD: 1.3409571048038946\n",
      "THB: 35.45972260494167\n",
      "ZAR: 19.00358225406448\n"
     ]
    }
   ],
   "source": [
    "data = response.json()\n",
    "rates = data[\"rates\"]\n",
    "for k, v in rates.items():\n",
    "    print(f\"{k}: {v}\") # To see what the exchange rates are"
   ]
  },
  {
   "cell_type": "code",
   "execution_count": 4,
   "id": "56359fd2-91bf-484f-95db-0cbab8a63fde",
   "metadata": {
    "executionCancelledAt": null,
    "executionTime": 60,
    "lastExecutedAt": 1740183912067,
    "lastExecutedByKernel": "b9f17398-d06b-405b-9752-b2f5ce027655",
    "lastScheduledRunId": null,
    "lastSuccessfullyExecutedCode": "def get_exchange_rate(currency):\n    if currency == 'USD':\n        return 1.0  # USD to USD conversion rate is 1\n    return rates.get(currency, None)  # Get rate or None if missing\n\norders['exchange_rate'] = orders['currency'].apply(get_exchange_rate)\norders.head()",
    "outputsMetadata": {
     "0": {
      "height": 550,
      "tableState": {
       "quickFilterText": ""
      },
      "type": "dataFrame"
     }
    }
   },
   "outputs": [
    {
     "data": {
      "text/html": [
       "<div>\n",
       "<style scoped>\n",
       "    .dataframe tbody tr th:only-of-type {\n",
       "        vertical-align: middle;\n",
       "    }\n",
       "\n",
       "    .dataframe tbody tr th {\n",
       "        vertical-align: top;\n",
       "    }\n",
       "\n",
       "    .dataframe thead th {\n",
       "        text-align: right;\n",
       "    }\n",
       "</style>\n",
       "<table border=\"1\" class=\"dataframe\">\n",
       "  <thead>\n",
       "    <tr style=\"text-align: right;\">\n",
       "      <th></th>\n",
       "      <th>amount</th>\n",
       "      <th>currency</th>\n",
       "      <th>exchange_rate</th>\n",
       "    </tr>\n",
       "  </thead>\n",
       "  <tbody>\n",
       "    <tr>\n",
       "      <th>0</th>\n",
       "      <td>43.75</td>\n",
       "      <td>EUR</td>\n",
       "      <td>0.918527</td>\n",
       "    </tr>\n",
       "    <tr>\n",
       "      <th>1</th>\n",
       "      <td>385.50</td>\n",
       "      <td>GBP</td>\n",
       "      <td>0.788326</td>\n",
       "    </tr>\n",
       "    <tr>\n",
       "      <th>2</th>\n",
       "      <td>495.50</td>\n",
       "      <td>GBP</td>\n",
       "      <td>0.788326</td>\n",
       "    </tr>\n",
       "    <tr>\n",
       "      <th>3</th>\n",
       "      <td>117.99</td>\n",
       "      <td>GBP</td>\n",
       "      <td>0.788326</td>\n",
       "    </tr>\n",
       "    <tr>\n",
       "      <th>4</th>\n",
       "      <td>624.00</td>\n",
       "      <td>USD</td>\n",
       "      <td>1.000000</td>\n",
       "    </tr>\n",
       "  </tbody>\n",
       "</table>\n",
       "</div>"
      ],
      "text/plain": [
       "   amount currency  exchange_rate\n",
       "0   43.75      EUR       0.918527\n",
       "1  385.50      GBP       0.788326\n",
       "2  495.50      GBP       0.788326\n",
       "3  117.99      GBP       0.788326\n",
       "4  624.00      USD       1.000000"
      ]
     },
     "execution_count": 4,
     "metadata": {},
     "output_type": "execute_result"
    }
   ],
   "source": [
    "def get_exchange_rate(currency):\n",
    "    if currency == 'USD':\n",
    "        return 1.0  # USD to USD conversion rate is 1\n",
    "    return rates.get(currency, None)  # Get rate or None if missing\n",
    "\n",
    "orders['exchange_rate'] = orders['currency'].apply(get_exchange_rate)\n",
    "orders.head()"
   ]
  },
  {
   "cell_type": "code",
   "execution_count": 5,
   "id": "40c0a080-9142-44d4-9d9e-ebe348c70db8",
   "metadata": {
    "executionCancelledAt": null,
    "executionTime": 47,
    "lastExecutedAt": 1740183912115,
    "lastExecutedByKernel": "b9f17398-d06b-405b-9752-b2f5ce027655",
    "lastScheduledRunId": null,
    "lastSuccessfullyExecutedCode": "orders[\"amount_usd\"] = orders[\"amount\"] * orders[\"exchange_rate\"]\norders.head()",
    "outputsMetadata": {
     "0": {
      "height": 550,
      "tableState": {
       "quickFilterText": ""
      },
      "type": "dataFrame"
     }
    }
   },
   "outputs": [
    {
     "data": {
      "text/html": [
       "<div>\n",
       "<style scoped>\n",
       "    .dataframe tbody tr th:only-of-type {\n",
       "        vertical-align: middle;\n",
       "    }\n",
       "\n",
       "    .dataframe tbody tr th {\n",
       "        vertical-align: top;\n",
       "    }\n",
       "\n",
       "    .dataframe thead th {\n",
       "        text-align: right;\n",
       "    }\n",
       "</style>\n",
       "<table border=\"1\" class=\"dataframe\">\n",
       "  <thead>\n",
       "    <tr style=\"text-align: right;\">\n",
       "      <th></th>\n",
       "      <th>amount</th>\n",
       "      <th>currency</th>\n",
       "      <th>exchange_rate</th>\n",
       "      <th>amount_usd</th>\n",
       "    </tr>\n",
       "  </thead>\n",
       "  <tbody>\n",
       "    <tr>\n",
       "      <th>0</th>\n",
       "      <td>43.75</td>\n",
       "      <td>EUR</td>\n",
       "      <td>0.918527</td>\n",
       "      <td>40.185542</td>\n",
       "    </tr>\n",
       "    <tr>\n",
       "      <th>1</th>\n",
       "      <td>385.50</td>\n",
       "      <td>GBP</td>\n",
       "      <td>0.788326</td>\n",
       "      <td>303.899490</td>\n",
       "    </tr>\n",
       "    <tr>\n",
       "      <th>2</th>\n",
       "      <td>495.50</td>\n",
       "      <td>GBP</td>\n",
       "      <td>0.788326</td>\n",
       "      <td>390.615298</td>\n",
       "    </tr>\n",
       "    <tr>\n",
       "      <th>3</th>\n",
       "      <td>117.99</td>\n",
       "      <td>GBP</td>\n",
       "      <td>0.788326</td>\n",
       "      <td>93.014529</td>\n",
       "    </tr>\n",
       "    <tr>\n",
       "      <th>4</th>\n",
       "      <td>624.00</td>\n",
       "      <td>USD</td>\n",
       "      <td>1.000000</td>\n",
       "      <td>624.000000</td>\n",
       "    </tr>\n",
       "  </tbody>\n",
       "</table>\n",
       "</div>"
      ],
      "text/plain": [
       "   amount currency  exchange_rate  amount_usd\n",
       "0   43.75      EUR       0.918527   40.185542\n",
       "1  385.50      GBP       0.788326  303.899490\n",
       "2  495.50      GBP       0.788326  390.615298\n",
       "3  117.99      GBP       0.788326   93.014529\n",
       "4  624.00      USD       1.000000  624.000000"
      ]
     },
     "execution_count": 5,
     "metadata": {},
     "output_type": "execute_result"
    }
   ],
   "source": [
    "orders[\"amount_usd\"] = orders[\"amount\"] * orders[\"exchange_rate\"]\n",
    "orders.head()"
   ]
  },
  {
   "cell_type": "code",
   "execution_count": 6,
   "id": "e2c18f8a-3515-4f80-bc5b-4716453a037a",
   "metadata": {
    "executionCancelledAt": null,
    "executionTime": 52,
    "lastExecutedAt": 1740183912167,
    "lastExecutedByKernel": "b9f17398-d06b-405b-9752-b2f5ce027655",
    "lastScheduledRunId": null,
    "lastSuccessfullyExecutedCode": "total_usd_sales = orders['amount_usd'].sum()\nprint(\"Total USD Sales:\", total_usd_sales)",
    "outputsMetadata": {
     "0": {
      "height": 38,
      "type": "stream"
     }
    }
   },
   "outputs": [
    {
     "name": "stdout",
     "output_type": "stream",
     "text": [
      "Total USD Sales: 326864.39599246805\n"
     ]
    }
   ],
   "source": [
    "total_usd_sales = orders['amount_usd'].sum()\n",
    "print(\"Total USD Sales:\", total_usd_sales)"
   ]
  }
 ],
 "metadata": {
  "editor": "DataLab",
  "kernelspec": {
   "display_name": "Python 3",
   "language": "python",
   "name": "python3"
  },
  "language_info": {
   "codemirror_mode": {
    "name": "ipython",
    "version": 3
   },
   "file_extension": ".py",
   "mimetype": "text/x-python",
   "name": "python",
   "nbconvert_exporter": "python",
   "pygments_lexer": "ipython3",
   "version": "3.12.3"
  }
 },
 "nbformat": 4,
 "nbformat_minor": 5
}

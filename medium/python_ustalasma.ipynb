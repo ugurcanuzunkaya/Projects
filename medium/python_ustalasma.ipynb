{
 "cells": [
  {
   "cell_type": "markdown",
   "metadata": {},
   "source": [
    "# Python Veri Yapıları ve İş Akışlarında Ustalaşma"
   ]
  },
  {
   "cell_type": "markdown",
   "metadata": {},
   "source": [
    "## Sözlükler"
   ]
  },
  {
   "cell_type": "code",
   "execution_count": 1,
   "metadata": {},
   "outputs": [
    {
     "name": "stdout",
     "output_type": "stream",
     "text": [
      "Ayşe\n",
      "isim: Ayşe\n",
      "yaş: 26\n",
      "şehir: İstanbul\n",
      "ülke: Türkiye\n"
     ]
    }
   ],
   "source": [
    "kisi = {\"isim\": \"Ayşe\", \"yaş\": 25, \"şehir\": \"İstanbul\"}\n",
    "\n",
    "# Değere erişme\n",
    "print(kisi[\"isim\"])\n",
    "\n",
    "# Değer değiştirme veya yeni bir anahtar ekleme\n",
    "kisi[\"yaş\"] = 26\n",
    "kisi[\"ülke\"] = \"Türkiye\"\n",
    "\n",
    "# Sözlük içinde gezinme\n",
    "for anahtar, deger in kisi.items():\n",
    "    print(f\"{anahtar}: {deger}\")"
   ]
  },
  {
   "cell_type": "markdown",
   "metadata": {},
   "source": [
    "## Kümeler"
   ]
  },
  {
   "cell_type": "code",
   "execution_count": 2,
   "metadata": {},
   "outputs": [
    {
     "name": "stdout",
     "output_type": "stream",
     "text": [
      "{1, 2, 3, 4, 5}\n",
      "{3}\n",
      "{1, 2}\n"
     ]
    }
   ],
   "source": [
    "sayilar = {1, 2, 3, 4, 5}\n",
    "sayilar.add(6)\n",
    "sayilar.remove(2)\n",
    "\n",
    "kume1 = {1, 2, 3}\n",
    "kume2 = {3, 4, 5}\n",
    "\n",
    "print(kume1 | kume2)\n",
    "print(kume1 & kume2)\n",
    "print(kume1 - kume2)"
   ]
  },
  {
   "cell_type": "markdown",
   "metadata": {},
   "source": [
    "## Demetler"
   ]
  },
  {
   "cell_type": "code",
   "execution_count": 3,
   "metadata": {},
   "outputs": [
    {
     "name": "stdout",
     "output_type": "stream",
     "text": [
      "1920\n",
      "1920\n",
      "1080\n"
     ]
    }
   ],
   "source": [
    "boyutlar = (1920, 1080)\n",
    "print(boyutlar[0])\n",
    "\n",
    "# Demet paketleme ve açma\n",
    "genislik, yukseklik = boyutlar\n",
    "print(genislik)\n",
    "print(yukseklik)"
   ]
  },
  {
   "cell_type": "markdown",
   "metadata": {},
   "source": [
    "## Koşullu İfadeler (if-elif-else)"
   ]
  },
  {
   "cell_type": "code",
   "execution_count": 4,
   "metadata": {},
   "outputs": [
    {
     "name": "stdout",
     "output_type": "stream",
     "text": [
      "Yetişkinsiniz.\n"
     ]
    }
   ],
   "source": [
    "age = 25\n",
    "if age < 18:\n",
    "    print(\"Reşit değilsiniz.\")\n",
    "elif age < 65:\n",
    "    print(\"Yetişkinsiniz.\")\n",
    "else:\n",
    "    print(\"Yaşlısınız.\")"
   ]
  },
  {
   "cell_type": "markdown",
   "metadata": {},
   "source": [
    "## Koşullu İfadeler (match-case)"
   ]
  },
  {
   "cell_type": "code",
   "execution_count": 5,
   "metadata": {},
   "outputs": [
    {
     "name": "stdout",
     "output_type": "stream",
     "text": [
      "Not Found\n"
     ]
    }
   ],
   "source": [
    "status_code = 404\n",
    "\n",
    "match status_code:\n",
    "    case 200:\n",
    "        print(\"OK\")\n",
    "    case 404:\n",
    "        print(\"Not Found\")\n",
    "    case _:\n",
    "        print(\"Bilinmeyen Durum\")"
   ]
  },
  {
   "cell_type": "markdown",
   "metadata": {},
   "source": [
    "## for Döngüsü"
   ]
  },
  {
   "cell_type": "code",
   "execution_count": 6,
   "metadata": {},
   "outputs": [
    {
     "name": "stdout",
     "output_type": "stream",
     "text": [
      "elma\n",
      "muz\n",
      "kiraz\n"
     ]
    }
   ],
   "source": [
    "meyveler = [\"elma\", \"muz\", \"kiraz\"]\n",
    "for meyve in meyveler:\n",
    "    print(meyve)"
   ]
  },
  {
   "cell_type": "markdown",
   "metadata": {},
   "source": [
    "## while Döngüsü"
   ]
  },
  {
   "cell_type": "code",
   "execution_count": 7,
   "metadata": {},
   "outputs": [
    {
     "name": "stdout",
     "output_type": "stream",
     "text": [
      "0\n",
      "1\n",
      "2\n",
      "3\n",
      "4\n"
     ]
    }
   ],
   "source": [
    "sayac = 0\n",
    "while sayac < 5:\n",
    "    print(sayac)\n",
    "    sayac += 1"
   ]
  },
  {
   "cell_type": "markdown",
   "metadata": {},
   "source": [
    "## break Kullanımı"
   ]
  },
  {
   "cell_type": "code",
   "execution_count": 8,
   "metadata": {},
   "outputs": [
    {
     "name": "stdout",
     "output_type": "stream",
     "text": [
      "0\n",
      "1\n",
      "2\n"
     ]
    }
   ],
   "source": [
    "sayac = 0\n",
    "while sayac < 5:\n",
    "    if sayac == 3:\n",
    "        break\n",
    "    print(sayac)\n",
    "    sayac += 1"
   ]
  },
  {
   "cell_type": "markdown",
   "metadata": {},
   "source": [
    "## continue Kullanımı"
   ]
  },
  {
   "cell_type": "code",
   "execution_count": 9,
   "metadata": {},
   "outputs": [
    {
     "name": "stdout",
     "output_type": "stream",
     "text": [
      "1\n",
      "2\n",
      "4\n",
      "5\n"
     ]
    }
   ],
   "source": [
    "sayac = 0\n",
    "while sayac < 5:\n",
    "    sayac += 1\n",
    "    if sayac == 3:\n",
    "        continue\n",
    "    print(sayac)"
   ]
  },
  {
   "cell_type": "markdown",
   "metadata": {},
   "source": [
    "## not, in ve or Kullanımı"
   ]
  },
  {
   "cell_type": "code",
   "execution_count": 10,
   "metadata": {},
   "outputs": [
    {
     "name": "stdout",
     "output_type": "stream",
     "text": [
      "Kredi başvurunuz reddedildi.\n"
     ]
    }
   ],
   "source": [
    "kredi_notu = 600\n",
    "gelir = 4000\n",
    "\n",
    "# or kullanımı\n",
    "if kredi_notu > 700 or gelir > 5000:\n",
    "    print(\"Kredi başvurunuz onaylandı.\")\n",
    "else:\n",
    "    print(\"Kredi başvurunuz reddedildi.\")"
   ]
  },
  {
   "cell_type": "code",
   "execution_count": 11,
   "metadata": {},
   "outputs": [
    {
     "name": "stdout",
     "output_type": "stream",
     "text": [
      "Admin girişi yapamazsınız!\n",
      "Kullanıcı yapılıyor!\n"
     ]
    }
   ],
   "source": [
    "kullanicilar = [\"Ali\", \"Veli\", \"Ayşe\"]\n",
    "adminler = [\"Hüseyin\", \"Hale\", \"Gül\"]\n",
    "kullanici_girisi = \"Veli\"\n",
    "\n",
    "# not in ve in kullanımı\n",
    "if kullanici_girisi not in adminler:\n",
    "    print(\"Admin girişi yapamazsınız!\")\n",
    "\n",
    "if kullanici_girisi in kullanicilar:\n",
    "    print(\"Kullanıcı yapılıyor!\")"
   ]
  },
  {
   "cell_type": "markdown",
   "metadata": {},
   "source": [
    "## Dahili Fonksiyonlar"
   ]
  },
  {
   "cell_type": "code",
   "execution_count": 12,
   "metadata": {},
   "outputs": [
    {
     "name": "stdout",
     "output_type": "stream",
     "text": [
      "3\n",
      "6\n",
      "[1, 2, 3]\n"
     ]
    }
   ],
   "source": [
    "print(len([10, 20, 30]))\n",
    "print(sum([1, 2, 3]))\n",
    "print(sorted([3, 1, 2]))"
   ]
  },
  {
   "cell_type": "markdown",
   "metadata": {},
   "source": [
    "## pandas"
   ]
  },
  {
   "cell_type": "code",
   "execution_count": 13,
   "metadata": {},
   "outputs": [
    {
     "name": "stdout",
     "output_type": "stream",
     "text": [
      "     İsim  Yaş\n",
      "0     Ali   25\n",
      "1    Ayşe   30\n",
      "2  Mehmet   35\n"
     ]
    }
   ],
   "source": [
    "import pandas as pd\n",
    "\n",
    "data = {\"İsim\": [\"Ali\", \"Ayşe\", \"Mehmet\"], \"Yaş\": [25, 30, 35]}\n",
    "df = pd.DataFrame(data)\n",
    "print(df)"
   ]
  },
  {
   "cell_type": "markdown",
   "metadata": {},
   "source": [
    "## numpy"
   ]
  },
  {
   "cell_type": "code",
   "execution_count": 14,
   "metadata": {},
   "outputs": [
    {
     "name": "stdout",
     "output_type": "stream",
     "text": [
      "[2 4 6]\n"
     ]
    }
   ],
   "source": [
    "import numpy as np\n",
    "\n",
    "dizi = np.array([1, 2, 3])\n",
    "print(dizi * 2)"
   ]
  },
  {
   "cell_type": "markdown",
   "metadata": {},
   "source": [
    "## matplotlib"
   ]
  },
  {
   "cell_type": "code",
   "execution_count": 15,
   "metadata": {},
   "outputs": [
    {
     "data": {
      "image/png": "[encoded data removed]",
      "text/plain": [
       "<Figure size 640x480 with 1 Axes>"
      ]
     },
     "metadata": {},
     "output_type": "display_data"
    }
   ],
   "source": [
    "import matplotlib.pyplot as plt\n",
    "\n",
    "plt.plot([1, 2, 3], [4, 5, 6])\n",
    "plt.show()"
   ]
  }
 ],
 "metadata": {
  "kernelspec": {
   "display_name": "Python 3",
   "language": "python",
   "name": "python3"
  },
  "language_info": {
   "codemirror_mode": {
    "name": "ipython",
    "version": 3
   },
   "file_extension": ".py",
   "mimetype": "text/x-python",
   "name": "python",
   "nbconvert_exporter": "python",
   "pygments_lexer": "ipython3",
   "version": "3.12.3"
  }
 },
 "nbformat": 4,
 "nbformat_minor": 2
}
